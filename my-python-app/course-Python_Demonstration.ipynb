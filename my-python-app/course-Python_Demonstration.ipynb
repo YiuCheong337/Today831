{
  "cells": [
    {
      "cell_type": "code",
      "execution_count": 1,
      "metadata": {
        "id": "DM5Q5M59XmE7"
      },
      "outputs": [
        {
          "name": "stdout",
          "output_type": "stream",
          "text": [
            "hello world\n"
          ]
        }
      ],
      "source": [
        "print(\"hello world\")"
      ]
    },
    {
      "cell_type": "markdown",
      "metadata": {
        "id": "259DEhHv6DMi"
      },
      "source": [
        "# Colab hardware\n",
        "\n",
        "Ram: 12.72 GB\n",
        "\n",
        "GPU: Nvidia K80s, T4s, P4s and P100s\n",
        "\n",
        "Nice start in machine learning\n",
        "\n"
      ]
    },
    {
      "cell_type": "code",
      "execution_count": 4,
      "metadata": {
        "id": "Jb-fbZHa60Ox"
      },
      "outputs": [
        {
          "ename": "NameError",
          "evalue": "name 'humanize' is not defined",
          "output_type": "error",
          "traceback": [
            "\u001b[1;31m---------------------------------------------------------------------------\u001b[0m",
            "\u001b[1;31mNameError\u001b[0m                                 Traceback (most recent call last)",
            "Cell \u001b[1;32mIn[4], line 5\u001b[0m\n\u001b[0;32m      3\u001b[0m \u001b[39m# import humanize\u001b[39;00m\n\u001b[0;32m      4\u001b[0m process \u001b[39m=\u001b[39m psutil\u001b[39m.\u001b[39mProcess(os\u001b[39m.\u001b[39mgetpid())\n\u001b[1;32m----> 5\u001b[0m \u001b[39mprint\u001b[39m(\u001b[39m\"\u001b[39m\u001b[39mGen RAM Free: \u001b[39m\u001b[39m\"\u001b[39m \u001b[39m+\u001b[39m humanize\u001b[39m.\u001b[39mnaturalsize( psutil\u001b[39m.\u001b[39mvirtual_memory()\u001b[39m.\u001b[39mavailable ), \u001b[39m\"\u001b[39m\u001b[39m | Proc size: \u001b[39m\u001b[39m\"\u001b[39m \u001b[39m+\u001b[39m humanize\u001b[39m.\u001b[39mnaturalsize( process\u001b[39m.\u001b[39mmemory_info()\u001b[39m.\u001b[39mrss))\n",
            "\u001b[1;31mNameError\u001b[0m: name 'humanize' is not defined"
          ]
        }
      ],
      "source": [
        "import os\n",
        "import psutil\n",
        "# import humanize\n",
        "process = psutil.Process(os.getpid())\n",
        "print(\"Gen RAM Free: \" + humanize.naturalsize( psutil.virtual_memory().available ), \" | Proc size: \" + humanize.naturalsize( process.memory_info().rss))"
      ]
    },
    {
      "cell_type": "markdown",
      "metadata": {
        "id": "9Ekjmqfqa_ab"
      },
      "source": [
        "To enable GPU acceleration, go to Edit -> Notebook settings -> Hardware accelerator -> *select* \"GPU\""
      ]
    },
    {
      "cell_type": "code",
      "execution_count": 5,
      "metadata": {
        "id": "Z-5uB36H607h"
      },
      "outputs": [
        {
          "name": "stderr",
          "output_type": "stream",
          "text": [
            "'nvidia-smi' is not recognized as an internal or external command,\n",
            "operable program or batch file.\n"
          ]
        }
      ],
      "source": [
        "# command not found if session is not using GPU acceleration\n",
        "!nvidia-smi"
      ]
    },
    {
      "cell_type": "markdown",
      "metadata": {
        "id": "T1AuMr4aktSc"
      },
      "source": [
        "# Python introduction\n",
        "- emphasizes readability, simplicity & explictity\n",
        "- one & only one best way to do one single task\n",
        "- dynamic type\n",
        "- single threaded\n"
      ]
    },
    {
      "cell_type": "code",
      "execution_count": 6,
      "metadata": {
        "id": "RWZbrxjHXqCZ"
      },
      "outputs": [
        {
          "name": "stdout",
          "output_type": "stream",
          "text": [
            "The Zen of Python, by Tim Peters\n",
            "\n",
            "Beautiful is better than ugly.\n",
            "Explicit is better than implicit.\n",
            "Simple is better than complex.\n",
            "Complex is better than complicated.\n",
            "Flat is better than nested.\n",
            "Sparse is better than dense.\n",
            "Readability counts.\n",
            "Special cases aren't special enough to break the rules.\n",
            "Although practicality beats purity.\n",
            "Errors should never pass silently.\n",
            "Unless explicitly silenced.\n",
            "In the face of ambiguity, refuse the temptation to guess.\n",
            "There should be one-- and preferably only one --obvious way to do it.\n",
            "Although that way may not be obvious at first unless you're Dutch.\n",
            "Now is better than never.\n",
            "Although never is often better than *right* now.\n",
            "If the implementation is hard to explain, it's a bad idea.\n",
            "If the implementation is easy to explain, it may be a good idea.\n",
            "Namespaces are one honking great idea -- let's do more of those!\n"
          ]
        }
      ],
      "source": [
        "import this"
      ]
    },
    {
      "cell_type": "markdown",
      "metadata": {
        "id": "rdsnyk8k3ARe"
      },
      "source": [
        "**System command**\n",
        "\n",
        "add \"!\" to the start of the code to indicate the commands are ran in the system environment"
      ]
    },
    {
      "cell_type": "code",
      "execution_count": 7,
      "metadata": {
        "id": "F7x4av5L2_td"
      },
      "outputs": [
        {
          "name": "stdout",
          "output_type": "stream",
          "text": [
            "Python 3.10.6\n"
          ]
        }
      ],
      "source": [
        "!python --version"
      ]
    },
    {
      "cell_type": "code",
      "execution_count": 8,
      "metadata": {
        "id": "SLcWm92x3GTX"
      },
      "outputs": [
        {
          "name": "stdout",
          "output_type": "stream",
          "text": [
            "Requirement already satisfied: numpy in c:\\users\\rex\\__rex\\myubuntu2020feb\\continue study\\___teckyacademy\\yiucheong337\\my-python-app\\myenv\\lib\\site-packages (1.24.2)\n"
          ]
        }
      ],
      "source": [
        "!pip install numpy"
      ]
    },
    {
      "cell_type": "code",
      "execution_count": 9,
      "metadata": {
        "id": "Rbie7KStpose"
      },
      "outputs": [
        {
          "name": "stdout",
          "output_type": "stream",
          "text": [
            "/c/Users/Rex/__Rex/MyUbuntu2020Feb/Continue Study/___TeckyAcademy/YiuCheong337/my-python-app\n"
          ]
        }
      ],
      "source": [
        "# show current work directory\n",
        "!pwd"
      ]
    },
    {
      "cell_type": "code",
      "execution_count": 10,
      "metadata": {
        "id": "9ol3wDXbpjfr"
      },
      "outputs": [
        {
          "name": "stdout",
          "output_type": "stream",
          "text": [
            "course-Python_Demonstration.ipynb\n",
            "myenv\n",
            "requirements.txt\n"
          ]
        }
      ],
      "source": [
        "!ls"
      ]
    },
    {
      "cell_type": "markdown",
      "metadata": {},
      "source": [
        "## Basic Difference Between Python and TypeScript\n",
        "* `Python use indentation as delimiter`: One prominent difference is that python use indentation as the delimiter of the block. \n",
        "* `Python naming convention is snake_case`:  Name your `function`,`variable` and `file` in snake case while naming the Class in `PascalCase`\n",
        "* `Python install package to global by default`: Python does not have the concept of local packages. The comparable concept is `Virtual Environment`."
      ]
    },
    {
      "cell_type": "code",
      "execution_count": null,
      "metadata": {},
      "outputs": [],
      "source": [
        "def hello_world(name):\n",
        "    print(\"Hello, {}\".format(name))\n",
        "\n",
        "\n",
        "def hello_world(name):\n",
        "    if name == \"Gordon\":\n",
        "        print(\"Hello, {}! Haven't seen for long.\".format(\"Gordon\"))\n",
        "    else:\n",
        "        print(\"Hello, {}\".format(name))"
      ]
    },
    {
      "cell_type": "markdown",
      "metadata": {
        "id": "HWZMwzfbohNQ"
      },
      "source": [
        "# Variable, if-else, for loop, while loop\n"
      ]
    },
    {
      "cell_type": "code",
      "execution_count": null,
      "metadata": {
        "id": "t9tGq0J3izSx"
      },
      "outputs": [],
      "source": [
        "# Python\n",
        "# dynamic type - variable type is only determined at runtime \n",
        "\n",
        "# js / ts style\n",
        "# const popularityJason = isJasonGentleman ? \"Many love letter\" : \"No love letter at all\"\n",
        "\n",
        "# Null is None in Python\n",
        "popularity_Jason = None\n",
        "\n",
        "is_Jason_gentleman = True\n",
        "\n",
        "if is_Jason_gentleman:                                  # is True: -- no type checking \"===\"\n",
        "  popularity_Jason = \"Many love letter\"\n",
        "elif is_Jason_gentleman == \"okay la\":\n",
        "  popularity_Jason = \"little toxic boy\"\n",
        "else:\n",
        "  popularity_Jason = \"No love letter at all\"\n",
        "\n",
        "popularity_Jason"
      ]
    },
    {
      "cell_type": "code",
      "execution_count": null,
      "metadata": {
        "id": "6eanWR5Cks1m"
      },
      "outputs": [],
      "source": [
        "foo_bar = 721\n",
        "print(foo_bar)\n",
        "print(type(foo_bar)) # type() function gets the type of the value. \n",
        "foo_bar = \"white shirt\"\n",
        "print(foo_bar)\n",
        "print(type(foo_bar))"
      ]
    },
    {
      "cell_type": "code",
      "execution_count": null,
      "metadata": {
        "id": "iy2Gr4tQX0KW"
      },
      "outputs": [],
      "source": [
        "# this is a comment\n",
        "print(\"hello everyone\") # this is also a comment\n",
        "\n",
        "# Multi-line string uses triple double / single quote\n",
        "'''\n",
        "This is a long comment / documentationation in some IDE - integrated development environment & text editors\n",
        "But not in RELP - interactive read-eval-loop-print shell\n",
        "'''"
      ]
    },
    {
      "cell_type": "markdown",
      "metadata": {},
      "source": [
        "### While Loop\n",
        "While loop is specially for looping based on a condition in `Python`. Unlike `JavaScript/TypeScript`,\n",
        "there is no `Do-while` loop in `Python`. "
      ]
    },
    {
      "cell_type": "code",
      "execution_count": 1,
      "metadata": {
        "id": "WRO9IacTX_Y2"
      },
      "outputs": [
        {
          "name": "stdout",
          "output_type": "stream",
          "text": [
            "[0.45611964897696833, 0.9033231539802643, 0.4343754968307887, 0.5006266907917188, 0.8113594841043066, 0.5536737425539718, 0.7121747682476842, 0.1231420937871801, 0.8147597621524992, 0.3854936732156333]\n",
            "10 0.3854936732156333\n"
          ]
        }
      ],
      "source": [
        "import random\n",
        "\n",
        "random.seed(666)\n",
        "\n",
        "random_array = []\n",
        "\n",
        "i = 0\n",
        "while i < 10:\n",
        "  single_random_num = random.random()\n",
        "  random_array.append(single_random_num)\n",
        "  i += 1\n",
        "\n",
        "print(random_array)\n",
        "print(i, single_random_num)\n"
      ]
    },
    {
      "cell_type": "markdown",
      "metadata": {},
      "source": [
        "### For-loop\n",
        "There is only one variation of For-loop in `Python`. It always works on any value that is `iterable`. For general\n",
        "number-based iteration, you may use `for i in range(0,n):` which gives you number between 0 and `n-1`. "
      ]
    },
    {
      "cell_type": "code",
      "execution_count": 2,
      "metadata": {
        "id": "YSpDWgUxsLMC"
      },
      "outputs": [
        {
          "name": "stdout",
          "output_type": "stream",
          "text": [
            "[0.6291099598044565, 0.8918256877276406, 0.9888178277721876, 0.01676515575428217, 0.9674559330059664, 0.09938025699844577, 0.68155299240808, 0.16977089845594373, 0.9216589677068021, 0.6105126406552556]\n",
            "9 0.6105126406552556\n"
          ]
        }
      ],
      "source": [
        "for_loop_random_array = []\n",
        "\n",
        "for j in range(0, 10):\n",
        "  for_loop_random_num = random.random()\n",
        "  for_loop_random_array.append(for_loop_random_num)\n",
        "\n",
        "print(for_loop_random_array)\n",
        "print(j, for_loop_random_num)\n"
      ]
    },
    {
      "cell_type": "code",
      "execution_count": 3,
      "metadata": {
        "id": "NZUNnCdgqU1C"
      },
      "outputs": [
        {
          "name": "stdout",
          "output_type": "stream",
          "text": [
            "T\n",
            "e\n",
            "c\n",
            "k\n",
            "y\n",
            "---\n",
            "The reversed string is Ykcet\n",
            "Length fo reversed string is 5\n"
          ]
        }
      ],
      "source": [
        "# reverse string\n",
        "str_re = \"\"\n",
        "\n",
        "# You can also loop string in Python\n",
        "for char in \"Tecky\":\n",
        "    str_re = char + str_re\n",
        "    print(char)\n",
        "\n",
        "print(\"---\")\n",
        "print(f\"The reversed string is {str_re.capitalize()}\")       # .lower / upper / capitialize ()\n",
        "print(f\"Length fo reversed string is {len(str_re)}\")"
      ]
    },
    {
      "cell_type": "code",
      "execution_count": null,
      "metadata": {
        "id": "JxRg6GqxuD3u"
      },
      "outputs": [],
      "source": [
        "# Error Control Flow\n",
        "\n",
        "***Python***\n",
        "\n",
        "EAFP - easier to ask for forgiveness than permission\n",
        "\n",
        "---\n",
        "\n",
        "***JS / TS , C-family language***\n",
        "\n",
        "LBYL - look before you leap"
      ]
    },
    {
      "cell_type": "code",
      "execution_count": 4,
      "metadata": {
        "id": "yg012BI6uhrU"
      },
      "outputs": [
        {
          "name": "stdout",
          "output_type": "stream",
          "text": [
            "Said functions cannot be found\n"
          ]
        }
      ],
      "source": [
        "try:\n",
        "    may_exist_func()\n",
        "except NameError:\n",
        "    print(\"Said functions cannot be found\")\n",
        "\n",
        "#   // looks like if(session.user) {...}\n",
        "#   if(may_exist_func):\n",
        "#       may_exist_func()\n",
        "#   else:\n",
        "#       console.log(function is not defined\")"
      ]
    },
    {
      "cell_type": "markdown",
      "metadata": {
        "id": "TRW93PLTtGyX"
      },
      "source": [
        "# String formating"
      ]
    },
    {
      "cell_type": "code",
      "execution_count": 5,
      "metadata": {
        "id": "9Ilbm4ACr2NK"
      },
      "outputs": [
        {
          "name": "stdout",
          "output_type": "stream",
          "text": [
            "10\n"
          ]
        }
      ],
      "source": [
        "print(i)"
      ]
    },
    {
      "cell_type": "code",
      "execution_count": 7,
      "metadata": {
        "id": "uggHJafxbukn"
      },
      "outputs": [],
      "source": [
        "# incorrect input type\n",
        "# print(i + \"I'm separator\" + single_random_num)"
      ]
    },
    {
      "cell_type": "code",
      "execution_count": 8,
      "metadata": {
        "id": "YSxmKjy3bkVN"
      },
      "outputs": [
        {
          "name": "stdout",
          "output_type": "stream",
          "text": [
            "10 I'm separator 0.3854936732156333\n"
          ]
        }
      ],
      "source": [
        "# str() = stringify\n",
        "print(str(i) + \" I'm separator \" + str(single_random_num)) #\\n"
      ]
    },
    {
      "cell_type": "code",
      "execution_count": 9,
      "metadata": {
        "id": "UyX3qZNFcGZ1"
      },
      "outputs": [
        {
          "name": "stdout",
          "output_type": "stream",
          "text": [
            "10 separating 0.3854936732156333 ending this\n"
          ]
        }
      ],
      "source": [
        "# old string formatting - from python 2\n",
        "print(\"%s separating %s %s\" % (i, single_random_num, \"ending this\"))"
      ]
    },
    {
      "cell_type": "code",
      "execution_count": 10,
      "metadata": {
        "id": "Cawb05K5hLu2"
      },
      "outputs": [
        {
          "name": "stdout",
          "output_type": "stream",
          "text": [
            "10 separating 0.3854936732156333 ending this\n",
            "\n",
            "10 seperating 0.3854936732156333 and this is the end\n",
            "\n",
            "This is i 10 and value of random number is 0.4200656441521393\n"
          ]
        }
      ],
      "source": [
        "# new string formatting - .format()\n",
        "print(\"{} separating {} {}\".format(i, single_random_num, \"ending this\"))\n",
        "\n",
        "print(\"\")\n",
        "\n",
        "print(\"{num_1} seperating {num_2} and this is {ending}\".format(num_1 = i, num_2 = single_random_num, ending = \"the end\"))\n",
        "\n",
        "print(\"\")\n",
        "\n",
        "# newer string interpolation f-string - from python 3\n",
        "import random as rd\n",
        "print(f\"This is i {i} and value of random number is {rd.random()}\")"
      ]
    },
    {
      "cell_type": "markdown",
      "metadata": {
        "id": "5btzllTfehow"
      },
      "source": [
        "# Function"
      ]
    },
    {
      "cell_type": "code",
      "execution_count": 11,
      "metadata": {
        "id": "EJ9dyMAffwdM"
      },
      "outputs": [],
      "source": [
        "def first_function():\n",
        "    print(\"this is my first function!\")\n",
        "\n",
        "# pass is not nessary in Python 3.x anymore\n",
        "# in fact, I've never written 'pass' in my code\n",
        "\n",
        "def simple_add(x, y = 8):\n",
        "    return x + y"
      ]
    },
    {
      "cell_type": "code",
      "execution_count": 12,
      "metadata": {
        "id": "jXEwZpNLs0jG"
      },
      "outputs": [
        {
          "data": {
            "text/plain": [
              "<function __main__.first_function()>"
            ]
          },
          "execution_count": 12,
          "metadata": {},
          "output_type": "execute_result"
        }
      ],
      "source": [
        "first_function"
      ]
    },
    {
      "cell_type": "code",
      "execution_count": 13,
      "metadata": {
        "id": "mi8ji2ceWE_K"
      },
      "outputs": [
        {
          "name": "stdout",
          "output_type": "stream",
          "text": [
            "this is my first function!\n"
          ]
        }
      ],
      "source": [
        "first_function()"
      ]
    },
    {
      "cell_type": "code",
      "execution_count": 15,
      "metadata": {
        "id": "Jcy_zb8WgFAt"
      },
      "outputs": [
        {
          "name": "stdout",
          "output_type": "stream",
          "text": [
            "55\n"
          ]
        }
      ],
      "source": [
        "some_num = simple_add(45, 10)\n",
        "print(some_num)"
      ]
    },
    {
      "cell_type": "code",
      "execution_count": 16,
      "metadata": {},
      "outputs": [
        {
          "data": {
            "text/plain": [
              "20"
            ]
          },
          "execution_count": 16,
          "metadata": {},
          "output_type": "execute_result"
        }
      ],
      "source": [
        "simple_add(10)\n",
        "# Python has named parameter for function\n",
        "simple_add(y=10, x=10) "
      ]
    },
    {
      "cell_type": "markdown",
      "metadata": {
        "id": "5hnms6t6fmlQ"
      },
      "source": [
        "# List & dictionary"
      ]
    },
    {
      "cell_type": "code",
      "execution_count": 17,
      "metadata": {
        "id": "cMfoYEr5fmNI"
      },
      "outputs": [],
      "source": [
        "list_1 = []\n",
        "list_1.append(some_num)\n",
        "\n",
        "for i in range(0, 10):\n",
        "    if i % 2 == 0:\n",
        "        list_1.append(i)\n",
        "    else:\n",
        "        list_1.append(i-1)"
      ]
    },
    {
      "cell_type": "code",
      "execution_count": 18,
      "metadata": {},
      "outputs": [
        {
          "data": {
            "text/plain": [
              "[55, 0, 0, 2, 2, 4, 4, 6, 6, 8, 8]"
            ]
          },
          "execution_count": 18,
          "metadata": {},
          "output_type": "execute_result"
        }
      ],
      "source": [
        "list_1"
      ]
    },
    {
      "cell_type": "code",
      "execution_count": 19,
      "metadata": {
        "id": "HKkM5ULIihIc"
      },
      "outputs": [
        {
          "name": "stdout",
          "output_type": "stream",
          "text": [
            "[55, 0, 0, 2, 2, 4, 4, 6, 6, 8, 8, 0, 1, 2, 3, 4]\n",
            "6\n"
          ]
        }
      ],
      "source": [
        "for j in range(0, 5):\n",
        "    list_1.append(j)\n",
        "print(list_1)\n",
        "print(list_1[8])"
      ]
    },
    {
      "cell_type": "markdown",
      "metadata": {},
      "source": [
        "### Slices\n",
        "Python lists support a powerful slices. You can use the syntax `list[begin:final:step]` to slice\n",
        "the list to another list."
      ]
    },
    {
      "cell_type": "code",
      "execution_count": 20,
      "metadata": {
        "id": "uD-ZTp1eiWmE"
      },
      "outputs": [
        {
          "data": {
            "text/plain": [
              "[4, 2, 0, 8, 6, 4, 2, 0]"
            ]
          },
          "execution_count": 20,
          "metadata": {},
          "output_type": "execute_result"
        }
      ],
      "source": [
        "# Slice\n",
        "list_1[0:10]\n",
        "\n",
        "# Slice from the back\n",
        "list_1[-1]\n",
        "\n",
        "# Slice for every two elements\n",
        "list_1[0:10:2]\n",
        "\n",
        "# Slice for every two elements from the back\n",
        "list_1[-1:0:-2]"
      ]
    },
    {
      "cell_type": "markdown",
      "metadata": {
        "id": "5_aerwsVlvIp"
      },
      "source": [
        "Tuple is the immutable version, fixed length version  of list\n",
        "\n",
        "https://stackoverflow.com/search?tab=relevance&q=python%20tuple"
      ]
    },
    {
      "cell_type": "code",
      "execution_count": null,
      "metadata": {
        "id": "Hd65aCMjluwi"
      },
      "outputs": [],
      "source": [
        "tuple_1 = (1, 2, 3)\n",
        "print(tuple_1[-1])"
      ]
    },
    {
      "cell_type": "code",
      "execution_count": null,
      "metadata": {
        "id": "HUxwsDo9iWaZ"
      },
      "outputs": [],
      "source": [
        "dict_1 = {'foo': 8, \"bar\": 55, \"Jason\": \"love letter\"}"
      ]
    },
    {
      "cell_type": "code",
      "execution_count": null,
      "metadata": {
        "id": "Q34B459HjhYS"
      },
      "outputs": [],
      "source": [
        "# Correct Version of accessing dictionary\n",
        "dict_1[\"foo\"]\n",
        "# Incorrect version of accessing dictionary\n",
        "try:\n",
        "    dict_1.foo\n",
        "except AttributeError:\n",
        "    print(\"Attribute Error\")"
      ]
    },
    {
      "cell_type": "code",
      "execution_count": null,
      "metadata": {
        "id": "v9909KLtjx3X"
      },
      "outputs": [],
      "source": [
        "for this_key in dict_1:\n",
        "    print(\"The key is: \" + str(this_key))\n",
        "    print(\"The value is: \" + str(dict_1[this_key]))"
      ]
    },
    {
      "cell_type": "markdown",
      "metadata": {
        "id": "93pKZlV2oZHH"
      },
      "source": [
        "## List Comprehension\n",
        "The `Map-filter-reduce` in `Python` is quite clumsy compared to the `TypeScript/JavaScript` alternative.\n",
        "\n",
        "We should use `List Comprehension` to achieve `map` and `filter`. What we are achieving with `Reduce` in `TypeScript`, \n",
        "we normally do it with plain `for-loop`."
      ]
    },
    {
      "cell_type": "code",
      "execution_count": null,
      "metadata": {
        "id": "Bbt1B7Mvrrc8"
      },
      "outputs": [],
      "source": [
        "# Map method alternative in Python\n",
        "\n",
        "list_added_1 = [ x + 1 for x in [1000,100,10]]\n"
      ]
    },
    {
      "cell_type": "code",
      "execution_count": null,
      "metadata": {},
      "outputs": [],
      "source": [
        "# Filter method alternative in Python\n",
        "\n",
        "even_numbers = [x for x in range(1,50) if x % 2 == 0]"
      ]
    },
    {
      "cell_type": "code",
      "execution_count": 26,
      "metadata": {},
      "outputs": [
        {
          "name": "stdout",
          "output_type": "stream",
          "text": [
            "{1: 4, 2: 1, 3: 3, 4: 2, 5: 1, 6: 4, 7: 2, 0: 1, 8: 1, 9: 1}\n"
          ]
        }
      ],
      "source": [
        "# Reduce method alternative in Python\n",
        "\n",
        "count = {}\n",
        "numbers = [1,1,1,2,3,4,5,6,7,1,7,3,3,4,6,6,6,0,8,9]\n",
        "for num in numbers:\n",
        "    if not count.get(num):\n",
        "        count[num] = 0\n",
        "    count[num] += 1\n",
        "\n",
        "print(count)"
      ]
    },
    {
      "cell_type": "code",
      "execution_count": 27,
      "metadata": {},
      "outputs": [
        {
          "data": {
            "text/plain": [
              "[(51, 68, 85),\n",
              " (54, 72, 90),\n",
              " (57, 76, 95),\n",
              " (60, 63, 87),\n",
              " (63, 60, 87),\n",
              " (65, 72, 97),\n",
              " (68, 51, 85),\n",
              " (72, 54, 90),\n",
              " (72, 65, 97),\n",
              " (76, 57, 95)]"
            ]
          },
          "execution_count": 27,
          "metadata": {},
          "output_type": "execute_result"
        }
      ],
      "source": [
        "# List comprehension is very powerful\n",
        "# We can generate all of the Pythagorean triples under the number 20\n",
        "[(x,y,z) for x in range(50,100) for y in range(50,100) for z in range(50,100) if x**2 + y**2 == z**2]"
      ]
    },
    {
      "cell_type": "markdown",
      "metadata": {},
      "source": [
        "### Lambda Function\n",
        "The alternative for arrow function in `Python` is called `Lambda function`."
      ]
    },
    {
      "cell_type": "code",
      "execution_count": 31,
      "metadata": {
        "id": "RSOJVIkIqZsd"
      },
      "outputs": [
        {
          "data": {
            "text/plain": [
              "41"
            ]
          },
          "execution_count": 31,
          "metadata": {},
          "output_type": "execute_result"
        }
      ],
      "source": [
        "# const myFunc = (x) => x + 1\n",
        "\n",
        "add_0 = lambda x: (x + 1)*7-1\n",
        "add_0(3*2-1)"
      ]
    },
    {
      "cell_type": "code",
      "execution_count": 32,
      "metadata": {
        "id": "XWK9czpSq6E-"
      },
      "outputs": [
        {
          "data": {
            "text/plain": [
              "9"
            ]
          },
          "execution_count": 32,
          "metadata": {},
          "output_type": "execute_result"
        }
      ],
      "source": [
        "add_1 = lambda x, y, z : x + y*z\n",
        "add_1(7, 2, 1)"
      ]
    },
    {
      "cell_type": "markdown",
      "metadata": {
        "id": "t1dwOuxfrHSb"
      },
      "source": [
        "Lambda also accepts default values, just put after the mandatory input parameters"
      ]
    },
    {
      "cell_type": "code",
      "execution_count": 33,
      "metadata": {
        "id": "Soc7ct6NqZgz"
      },
      "outputs": [
        {
          "data": {
            "text/plain": [
              "107"
            ]
          },
          "execution_count": 33,
          "metadata": {},
          "output_type": "execute_result"
        }
      ],
      "source": [
        "add_2 = lambda y, x=100, z=1 : x + y*z\n",
        "add_2(7)"
      ]
    },
    {
      "cell_type": "markdown",
      "metadata": {
        "id": "fuDagWv-tNyj"
      },
      "source": [
        "# Basic plotting"
      ]
    },
    {
      "cell_type": "code",
      "execution_count": 36,
      "metadata": {
        "id": "TTwyN_PWZnVd"
      },
      "outputs": [
        {
          "name": "stderr",
          "output_type": "stream",
          "text": [
            "Matplotlib is building the font cache; this may take a moment.\n"
          ]
        },
        {
          "data": {
            "image/png": "[encoded data removed]",
            "text/plain": [
              "<Figure size 640x480 with 1 Axes>"
            ]
          },
          "metadata": {},
          "output_type": "display_data"
        }
      ],
      "source": [
        "import matplotlib.pyplot as plt\n",
        "plt.plot(random_array)\n",
        "plt.show()"
      ]
    },
    {
      "cell_type": "markdown",
      "metadata": {
        "id": "YWeNZsMeaBlX"
      },
      "source": [
        "Developer's love: documentation\n",
        "\n",
        "https://matplotlib.org/3.2.2/api/_as_gen/matplotlib.pyplot.plot.html"
      ]
    },
    {
      "cell_type": "code",
      "execution_count": 37,
      "metadata": {
        "id": "y64arGhFaBAv"
      },
      "outputs": [
        {
          "data": {
            "image/png": "[encoded data removed]",
            "text/plain": [
              "<Figure size 640x480 with 1 Axes>"
            ]
          },
          "metadata": {},
          "output_type": "display_data"
        }
      ],
      "source": [
        "plt.ylim(0, 1)\n",
        "plt.plot(random_array, \"^:r\") # \"or\"\n",
        "plt.show()\n",
        "\n",
        "# default is line, \"^:r\" = triangle, dotted line, red ; \"or\" = circle, no line, red"
      ]
    },
    {
      "cell_type": "code",
      "execution_count": null,
      "metadata": {
        "id": "guRqETIJZxu4"
      },
      "outputs": [],
      "source": [
        "random_array_1 = []\n",
        "\n",
        "i = 0\n",
        "while i < 10:\n",
        "  single_random_num = random.random()\n",
        "  random_array_1.append(single_random_num)\n",
        "  i += 1\n",
        "\n",
        "plt.xlim(0, 1)\n",
        "plt.ylim(0, 1)\n",
        "plt.scatter(random_array, random_array_1)\n",
        "plt.show()"
      ]
    },
    {
      "cell_type": "code",
      "execution_count": null,
      "metadata": {
        "id": "GbNvfjevny0d"
      },
      "outputs": [],
      "source": [
        "\n",
        "random_plus_x = [x + random.random() for x in random_array ] \n",
        "print(random_array)\n",
        "print(random_plus_x)"
      ]
    },
    {
      "cell_type": "code",
      "execution_count": null,
      "metadata": {
        "id": "rvw5g8xqk0aF"
      },
      "outputs": [],
      "source": [
        "plt.xlim(0, 1)\n",
        "plt.ylim(0, 2)\n",
        "plt.scatter(random_array, random_plus_x)\n",
        "plt.show()"
      ]
    },
    {
      "cell_type": "markdown",
      "metadata": {
        "id": "0qYgBRV9p7fh"
      },
      "source": [
        "## Class\n",
        "Python also supports class. There are a few difference between `Python` and `JavaScript`.\n",
        "\n",
        "* Python's constructor is called `__init__`\n",
        "* Python's version of `this` is called `self`. It is the first parameter of each method."
      ]
    },
    {
      "cell_type": "code",
      "execution_count": null,
      "metadata": {
        "id": "3TrnD8cuqCa6"
      },
      "outputs": [],
      "source": [
        "class Calculator:\n",
        "    # class that computes +-*/ and others\n",
        "\n",
        "    # initialize the class with properties\n",
        "    # required value - default value\n",
        "    def __init__(self, owner, bias = 0, error_factor = 1):\n",
        "        self.owner = owner\n",
        "        self.bias = bias\n",
        "        self.error_factor = error_factor\n",
        "\n",
        "    def plus(self, num_1, num_2):\n",
        "        return num_1 + num_2\n",
        "    \n",
        "    def plus_wrong(self, num_1, num_2):\n",
        "        \n",
        "        # incorrect\n",
        "        # return (num_1 + num_2 + bias) * error_factor\n",
        "\n",
        "        # correct\n",
        "        return (num_1 + num_2 + self.bias) * self.error_factor\n"
      ]
    },
    {
      "cell_type": "code",
      "execution_count": null,
      "metadata": {
        "id": "O2vspAlDq6pu"
      },
      "outputs": [],
      "source": [
        "my_cal = Calculator(\"Dragon\")   \n",
        "my_cal.owner\n",
        "\n",
        "# print(my_cal.owner)\n",
        "# exceptional case\n",
        "print(my_cal.__dict__)\n",
        "\n",
        "# my_cal.owner = \"this is so so wrong\"\n",
        "# print(my_cal.owner)"
      ]
    },
    {
      "cell_type": "code",
      "execution_count": null,
      "metadata": {
        "id": "Ytms3VCRsnIy"
      },
      "outputs": [],
      "source": [
        "my_cal.owner = \"silly person\"\n",
        "print(my_cal.owner)"
      ]
    },
    {
      "cell_type": "markdown",
      "metadata": {
        "id": "Pr6xS6c6tGQn"
      },
      "source": [
        "Python has no protection on class attributes\n",
        "\n",
        "Instead, all dev are encouraged to be responsible to treat the variable\n",
        "\n",
        "-- bear in mind that you can screw up can prevent yourself screwing up --\n",
        "\n",
        "1.   use def-return to read attributes\n",
        "2.   read attributes but never change it, except special cases\n",
        "\n"
      ]
    },
    {
      "cell_type": "code",
      "execution_count": null,
      "metadata": {
        "id": "j1aXhguprBLM"
      },
      "outputs": [],
      "source": [
        "print(my_cal.owner + \" is computing some silly math\")\n",
        "foo = my_cal.plus(10, 20)\n",
        "print(foo)"
      ]
    },
    {
      "cell_type": "code",
      "execution_count": null,
      "metadata": {
        "id": "gDmpDFMor75s"
      },
      "outputs": [],
      "source": [
        "jason_cal = Calculator(\"Jason the Gentleman\", 100)\n",
        "jason_cal.plus_wrong(10, 20)"
      ]
    },
    {
      "cell_type": "code",
      "execution_count": null,
      "metadata": {
        "id": "3ct6WNAau-Aq"
      },
      "outputs": [],
      "source": [
        "alex_cal = Calculator(\"Alex IT little dog\", 12, 2)\n",
        "alex_cal.plus_wrong(10, 20)"
      ]
    },
    {
      "cell_type": "markdown",
      "metadata": {
        "id": "khanT-k6CH48"
      },
      "source": [
        "# Single thread & concurrency\n",
        "\n",
        "Python is a single-threaded programming language.\n",
        "\n",
        "Each line of code will be executed sequentially; and execute them in parallel requires multiple-processing - process based parallelism\n",
        "\n",
        "docu: https://docs.python.org/3/library/multiprocessing.html#"
      ]
    },
    {
      "cell_type": "code",
      "execution_count": null,
      "metadata": {
        "id": "0Yp-vhaFCC8U"
      },
      "outputs": [],
      "source": [
        "# single thread\n",
        "import time\n",
        "print(\"before sleep\")\n",
        "time.sleep(3)\n",
        "print(\"after sleep\")"
      ]
    },
    {
      "cell_type": "code",
      "execution_count": null,
      "metadata": {
        "id": "PrgX9vhXCl-s"
      },
      "outputs": [],
      "source": [
        "# concurrency\n",
        "def immediate_fun():\n",
        "    print(\"I'm immediate fun...ction!\")\n",
        "    time.sleep(3)\n",
        "    print(\"Party's over: fun...ction dies out\")\n",
        "\n",
        "def sleepy_fun():\n",
        "    print(\"before sleep\")\n",
        "    time.sleep(3)\n",
        "    print(\"after sleep\")\n",
        "\n",
        "immediate_fun()\n",
        "sleepy_fun()"
      ]
    },
    {
      "cell_type": "code",
      "execution_count": null,
      "metadata": {
        "id": "To66N4zn9JRT"
      },
      "outputs": [],
      "source": [
        "import multiprocessing as mp\n",
        "process_1 = mp.Process(target = immediate_fun)\n",
        "process_2 = mp.Process(target = sleepy_fun)\n",
        "\n",
        "process_1.start()\n",
        "process_2.start()\n",
        "process_1.join()\n",
        "process_2.join()"
      ]
    },
    {
      "cell_type": "markdown",
      "metadata": {
        "id": "A7zGZ2JmWeLW"
      },
      "source": [
        "# Colab-specific: Google drive linkage\n",
        "\n",
        "One powerful feature for Colab is you can access your files via Google Drive."
      ]
    },
    {
      "cell_type": "code",
      "execution_count": null,
      "metadata": {
        "id": "FytSfdW-Wh80"
      },
      "outputs": [],
      "source": [
        "from google.colab import drive\n",
        "drive.mount('/content/gdrive')"
      ]
    },
    {
      "cell_type": "code",
      "execution_count": null,
      "metadata": {
        "id": "Zw4ScmKXYzy_"
      },
      "outputs": [],
      "source": [
        "from pandas import read_excel\n",
        "# change the path to your xlsx here\n",
        "dataframe = read_excel('/content/gdrive/My Drive/Python/demo_data.xlsx')\n",
        "dataframe"
      ]
    },
    {
      "cell_type": "code",
      "execution_count": null,
      "metadata": {
        "id": "-bo_fbPX3ny2"
      },
      "outputs": [],
      "source": [
        "import matplotlib.pyplot as plt\n",
        "plt.scatter(dataframe[\"Day\"], dataframe[\"Reading\"])     # insert your optional arg here\n",
        "plt.title('Reading against Day')\n",
        "plt.xlabel('Day')\n",
        "plt.ylabel('Reading')\n",
        "plt.show()"
      ]
    },
    {
      "cell_type": "code",
      "execution_count": null,
      "metadata": {
        "id": "xiDJvdjx3TPJ"
      },
      "outputs": [],
      "source": [
        "plt.plot(dataframe[\"Day\"], dataframe[\"Reading\"])     # insert your optional arg here\n",
        "plt.title('Reading against Day')\n",
        "plt.xlabel('Day')\n",
        "plt.ylabel('Reading')\n",
        "plt.show()"
      ]
    },
    {
      "cell_type": "markdown",
      "metadata": {
        "id": "7-QIOTrpI2XG"
      },
      "source": [
        "Boston housing dataset\n",
        "\n",
        "[https://www.kaggle.com/c/boston-housing](https://www.kaggle.com/c/boston-housing)\n",
        "\n",
        "Authors were to investigate the relationship between population level and housing price\n",
        "\n",
        "Are people willing to pay more for housing in a less populated area?\n",
        "\n",
        "Is the housing price negatively proportional tothe population level in said area?"
      ]
    },
    {
      "cell_type": "code",
      "execution_count": null,
      "metadata": {
        "id": "988JOBTd49P6"
      },
      "outputs": [],
      "source": [
        "import pandas as pd\n",
        "boston = pd.read_csv(\"/content/gdrive/My Drive/Python/boston_housing.csv\")\n",
        "# , header = None, sep = \"\\s+\")\n",
        "# no header, seperator is 1 or more space \\s+ (eqv. to delim_whitespace = True)\n",
        "boston"
      ]
    },
    {
      "cell_type": "markdown",
      "metadata": {
        "id": "ICW0iYA4GLkJ"
      },
      "source": [
        "Data clearing & exploration"
      ]
    },
    {
      "cell_type": "code",
      "execution_count": null,
      "metadata": {
        "id": "TqXUNlXwISEB"
      },
      "outputs": [],
      "source": [
        "max(boston['rm'])"
      ]
    },
    {
      "cell_type": "code",
      "execution_count": null,
      "metadata": {
        "id": "2m4U6hOBGQ6j"
      },
      "outputs": [],
      "source": [
        "factor_inv = 'rm'\n",
        "plt.scatter(boston[factor_inv], boston['medv'], s = 2**2)\n",
        "plt.title(f'Scatter plot medv against {factor_inv}')\n",
        "plt.xlabel(factor_inv)\n",
        "plt.ylabel('medv')\n",
        "plt.show()"
      ]
    },
    {
      "cell_type": "markdown",
      "metadata": {},
      "source": [
        "## Done\n",
        "Congratulations! You have finished the `Introduction of Python`. You can proceed to learn more about `Python`."
      ]
    }
  ],
  "metadata": {
    "colab": {
      "collapsed_sections": [],
      "name": "Demonstration_c11.ipynb",
      "provenance": []
    },
    "kernelspec": {
      "display_name": "Python 3.10.6 64-bit",
      "language": "python",
      "name": "python3"
    },
    "language_info": {
      "codemirror_mode": {
        "name": "ipython",
        "version": 3
      },
      "file_extension": ".py",
      "mimetype": "text/x-python",
      "name": "python",
      "nbconvert_exporter": "python",
      "pygments_lexer": "ipython3",
      "version": "3.10.6"
    },
    "vscode": {
      "interpreter": {
        "hash": "e7370f93d1d0cde622a1f8e1c04877d8463912d04d973331ad4851f04de6915a"
      }
    }
  },
  "nbformat": 4,
  "nbformat_minor": 0
}
