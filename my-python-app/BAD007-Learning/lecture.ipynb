{
 "cells": [
  {
   "cell_type": "markdown",
   "metadata": {},
   "source": [
    "## BAD007 Lecture\n"
   ]
  },
  {
   "cell_type": "markdown",
   "metadata": {},
   "source": [
    "### KNN Classification for Iris dataset"
   ]
  },
  {
   "cell_type": "code",
   "execution_count": 1,
   "metadata": {},
   "outputs": [],
   "source": [
    "from sklearn.datasets import load_iris\n",
    "\n",
    "\n",
    "iris = load_iris()"
   ]
  },
  {
   "cell_type": "code",
   "execution_count": 9,
   "metadata": {},
   "outputs": [],
   "source": [
    "data_df = iris.data\n",
    "target_df = iris.target"
   ]
  },
  {
   "cell_type": "code",
   "execution_count": 12,
   "metadata": {},
   "outputs": [
    {
     "data": {
      "text/plain": [
       "array(['setosa', 'versicolor', 'virginica'], dtype='<U10')"
      ]
     },
     "execution_count": 12,
     "metadata": {},
     "output_type": "execute_result"
    }
   ],
   "source": [
    "iris.target_names"
   ]
  },
  {
   "cell_type": "code",
   "execution_count": null,
   "metadata": {},
   "outputs": [],
   "source": [
    "from sklearn.neighbors import KNeighborsClassifier\n",
    "from sklearn.model_selection import train_test_split\n",
    "import numpy as np\n",
    "\n",
    "neigh = KNeighborsClassifier(n_neighbors=10)\n",
    "\n",
    "X_train, X_test, y_train , y_test = train_test_split(\n",
    "    data_df, target_df,\n",
    "    test_size = 0.2,\n",
    "    random_state=np.random.randint(10)\n",
    ")\n",
    "\n"
   ]
  },
  {
   "cell_type": "code",
   "execution_count": 18,
   "metadata": {},
   "outputs": [
    {
     "name": "stdout",
     "output_type": "stream",
     "text": [
      "(120, 4)\n",
      "(30, 4)\n",
      "(120,)\n",
      "(30,)\n"
     ]
    }
   ],
   "source": [
    "print(X_train.shape)\n",
    "print(X_test.shape)\n",
    "print(y_train.shape)\n",
    "print(y_test.shape)"
   ]
  },
  {
   "cell_type": "code",
   "execution_count": null,
   "metadata": {},
   "outputs": [],
   "source": [
    "neigh.fit(X_train, y_train)"
   ]
  },
  {
   "cell_type": "code",
   "execution_count": 21,
   "metadata": {},
   "outputs": [
    {
     "name": "stdout",
     "output_type": "stream",
     "text": [
      "[2 1 0 2 0 2 0 1 1 1 2 1 1 1 1 0 1 1 0 0 2 1 0 0 2 0 0 1 1 0]\n",
      "[2 1 0 2 0 2 0 1 1 1 2 1 1 1 1 0 1 1 0 0 2 1 0 0 2 0 0 1 1 0]\n"
     ]
    }
   ],
   "source": [
    "print(neigh.predict(X_test))\n",
    "print(y_test)"
   ]
  },
  {
   "cell_type": "markdown",
   "metadata": {},
   "source": [
    "### KNN Regression for Boston Dataset"
   ]
  },
  {
   "cell_type": "code",
   "execution_count": null,
   "metadata": {},
   "outputs": [],
   "source": [
    "from sklearn.datasets import load_boston\n",
    "\n",
    "boston = load_boston()\n",
    "boston_df = boston.data\n",
    "target_df = boston.target"
   ]
  },
  {
   "cell_type": "code",
   "execution_count": 24,
   "metadata": {},
   "outputs": [
    {
     "data": {
      "text/html": [
       "<style>#sk-container-id-2 {color: black;background-color: white;}#sk-container-id-2 pre{padding: 0;}#sk-container-id-2 div.sk-toggleable {background-color: white;}#sk-container-id-2 label.sk-toggleable__label {cursor: pointer;display: block;width: 100%;margin-bottom: 0;padding: 0.3em;box-sizing: border-box;text-align: center;}#sk-container-id-2 label.sk-toggleable__label-arrow:before {content: \"▸\";float: left;margin-right: 0.25em;color: #696969;}#sk-container-id-2 label.sk-toggleable__label-arrow:hover:before {color: black;}#sk-container-id-2 div.sk-estimator:hover label.sk-toggleable__label-arrow:before {color: black;}#sk-container-id-2 div.sk-toggleable__content {max-height: 0;max-width: 0;overflow: hidden;text-align: left;background-color: #f0f8ff;}#sk-container-id-2 div.sk-toggleable__content pre {margin: 0.2em;color: black;border-radius: 0.25em;background-color: #f0f8ff;}#sk-container-id-2 input.sk-toggleable__control:checked~div.sk-toggleable__content {max-height: 200px;max-width: 100%;overflow: auto;}#sk-container-id-2 input.sk-toggleable__control:checked~label.sk-toggleable__label-arrow:before {content: \"▾\";}#sk-container-id-2 div.sk-estimator input.sk-toggleable__control:checked~label.sk-toggleable__label {background-color: #d4ebff;}#sk-container-id-2 div.sk-label input.sk-toggleable__control:checked~label.sk-toggleable__label {background-color: #d4ebff;}#sk-container-id-2 input.sk-hidden--visually {border: 0;clip: rect(1px 1px 1px 1px);clip: rect(1px, 1px, 1px, 1px);height: 1px;margin: -1px;overflow: hidden;padding: 0;position: absolute;width: 1px;}#sk-container-id-2 div.sk-estimator {font-family: monospace;background-color: #f0f8ff;border: 1px dotted black;border-radius: 0.25em;box-sizing: border-box;margin-bottom: 0.5em;}#sk-container-id-2 div.sk-estimator:hover {background-color: #d4ebff;}#sk-container-id-2 div.sk-parallel-item::after {content: \"\";width: 100%;border-bottom: 1px solid gray;flex-grow: 1;}#sk-container-id-2 div.sk-label:hover label.sk-toggleable__label {background-color: #d4ebff;}#sk-container-id-2 div.sk-serial::before {content: \"\";position: absolute;border-left: 1px solid gray;box-sizing: border-box;top: 0;bottom: 0;left: 50%;z-index: 0;}#sk-container-id-2 div.sk-serial {display: flex;flex-direction: column;align-items: center;background-color: white;padding-right: 0.2em;padding-left: 0.2em;position: relative;}#sk-container-id-2 div.sk-item {position: relative;z-index: 1;}#sk-container-id-2 div.sk-parallel {display: flex;align-items: stretch;justify-content: center;background-color: white;position: relative;}#sk-container-id-2 div.sk-item::before, #sk-container-id-2 div.sk-parallel-item::before {content: \"\";position: absolute;border-left: 1px solid gray;box-sizing: border-box;top: 0;bottom: 0;left: 50%;z-index: -1;}#sk-container-id-2 div.sk-parallel-item {display: flex;flex-direction: column;z-index: 1;position: relative;background-color: white;}#sk-container-id-2 div.sk-parallel-item:first-child::after {align-self: flex-end;width: 50%;}#sk-container-id-2 div.sk-parallel-item:last-child::after {align-self: flex-start;width: 50%;}#sk-container-id-2 div.sk-parallel-item:only-child::after {width: 0;}#sk-container-id-2 div.sk-dashed-wrapped {border: 1px dashed gray;margin: 0 0.4em 0.5em 0.4em;box-sizing: border-box;padding-bottom: 0.4em;background-color: white;}#sk-container-id-2 div.sk-label label {font-family: monospace;font-weight: bold;display: inline-block;line-height: 1.2em;}#sk-container-id-2 div.sk-label-container {text-align: center;}#sk-container-id-2 div.sk-container {/* jupyter's `normalize.less` sets `[hidden] { display: none; }` but bootstrap.min.css set `[hidden] { display: none !important; }` so we also need the `!important` here to be able to override the default hidden behavior on the sphinx rendered scikit-learn.org. See: https://github.com/scikit-learn/scikit-learn/issues/21755 */display: inline-block !important;position: relative;}#sk-container-id-2 div.sk-text-repr-fallback {display: none;}</style><div id=\"sk-container-id-2\" class=\"sk-top-container\"><div class=\"sk-text-repr-fallback\"><pre>KNeighborsRegressor(n_neighbors=7)</pre><b>In a Jupyter environment, please rerun this cell to show the HTML representation or trust the notebook. <br />On GitHub, the HTML representation is unable to render, please try loading this page with nbviewer.org.</b></div><div class=\"sk-container\" hidden><div class=\"sk-item\"><div class=\"sk-estimator sk-toggleable\"><input class=\"sk-toggleable__control sk-hidden--visually\" id=\"sk-estimator-id-2\" type=\"checkbox\" checked><label for=\"sk-estimator-id-2\" class=\"sk-toggleable__label sk-toggleable__label-arrow\">KNeighborsRegressor</label><div class=\"sk-toggleable__content\"><pre>KNeighborsRegressor(n_neighbors=7)</pre></div></div></div></div></div>"
      ],
      "text/plain": [
       "KNeighborsRegressor(n_neighbors=7)"
      ]
     },
     "execution_count": 24,
     "metadata": {},
     "output_type": "execute_result"
    }
   ],
   "source": [
    "from sklearn.neighbors import KNeighborsRegressor\n",
    "\n",
    "X_train, X_test, y_train, y_test = train_test_split(\n",
    "    boston_df, target_df,\n",
    "    test_size=0.2,\n",
    "    random_state=np.random.randint(14)\n",
    ")\n",
    "\n",
    "regressor = KNeighborsRegressor(n_neighbors=7)\n",
    "regressor.fit(X_train, y_train)"
   ]
  },
  {
   "cell_type": "code",
   "execution_count": null,
   "metadata": {},
   "outputs": [],
   "source": [
    "print(regressor.predict(X_test))\n",
    "print(y_test)"
   ]
  },
  {
   "cell_type": "code",
   "execution_count": 26,
   "metadata": {},
   "outputs": [
    {
     "name": "stdout",
     "output_type": "stream",
     "text": [
      "0.6368705325509258\n"
     ]
    }
   ],
   "source": [
    "print(regressor.score(X_test, y_test))"
   ]
  },
  {
   "cell_type": "code",
   "execution_count": 29,
   "metadata": {},
   "outputs": [
    {
     "data": {
      "text/plain": [
       "array([20.2, 15.3, 37.3, 32.5,  8.8, 14.4, 22. , 26.6, 15. , 21.5, 29.4,\n",
       "       24.8, 22. , 16.1, 13.9, 21.6, 21.7, 12.8,  7.2, 12.6, 20.7, 19.3,\n",
       "       36.5, 17.7, 16.7, 20.2, 50. , 34.6, 35.4, 19.4, 20.8, 21.1, 31.1,\n",
       "       23.5,  8.3, 15.6, 11.3, 21.7, 23.2, 20.8, 22. , 13.6, 28.7, 10.5,\n",
       "       23. , 13.8, 36.4, 18.4, 30.1, 17.9, 29.9, 30.7,  5. , 35.4, 27.9,\n",
       "       18.4, 18.5, 17.5, 15.6, 22.4, 20.3, 20.6, 19.8, 28.2, 35.1, 27.5,\n",
       "       48.5, 27.5, 11.5, 22. , 13.2,  7.4, 20.6, 20.1, 25.1, 22. , 19.1,\n",
       "       24.3, 19.4, 23.9, 34.9, 19.4, 21.4, 26.6, 37.6, 36. , 21.4, 23.6,\n",
       "       24.8, 19.9, 20.9, 18.2, 10.9, 44. , 43.5,  8.3, 46.7, 32.9, 21.7,\n",
       "       14.3, 29.1, 23.8])"
      ]
     },
     "execution_count": 29,
     "metadata": {},
     "output_type": "execute_result"
    }
   ],
   "source": [
    "X_test # Matrix\n",
    "y_test # Vector"
   ]
  },
  {
   "cell_type": "markdown",
   "metadata": {},
   "source": [
    "### K-Means Clustering "
   ]
  },
  {
   "cell_type": "code",
   "execution_count": 37,
   "metadata": {},
   "outputs": [
    {
     "data": {
      "text/plain": [
       "<matplotlib.collections.PathCollection at 0x7f3c4b603c10>"
      ]
     },
     "execution_count": 37,
     "metadata": {},
     "output_type": "execute_result"
    },
    {
     "data": {
      "image/png": "[encoded data removed]",
      "text/plain": [
       "<Figure size 432x288 with 1 Axes>"
      ]
     },
     "metadata": {
      "needs_background": "light"
     },
     "output_type": "display_data"
    }
   ],
   "source": [
    "from sklearn.datasets import make_blobs\n",
    "import matplotlib.pyplot as plt\n",
    "\n",
    "\n",
    "X,y  = make_blobs(n_samples=1000, n_features=2,\n",
    "                centers = 15, shuffle=True,\n",
    "                random_state=np.random.randint(25)\n",
    "                )\n",
    "\n",
    "plt.scatter(X[:,0], X[:,1])\n"
   ]
  },
  {
   "cell_type": "code",
   "execution_count": 43,
   "metadata": {},
   "outputs": [],
   "source": [
    "from sklearn.cluster import KMeans\n",
    "\n",
    "NUM_CLUSTERS = 5\n",
    "km = KMeans(\n",
    "    n_clusters=NUM_CLUSTERS, init='random',\n",
    "    n_init=30, max_iter=1000,\n",
    "    tol=1e-05, random_state=20\n",
    ")\n",
    "\n",
    "y_km = km.fit_predict(X)"
   ]
  },
  {
   "cell_type": "code",
   "execution_count": 39,
   "metadata": {},
   "outputs": [
    {
     "data": {
      "text/plain": [
       "array([3, 4, 0, 3, 4, 0, 0, 1, 2, 0, 3, 3, 4, 1, 4, 4, 1, 4, 4, 3, 3, 0,\n",
       "       1, 4, 4, 3, 1, 4, 0, 4, 4, 4, 4, 0, 4, 0, 1, 4, 4, 1, 1, 3, 1, 1,\n",
       "       1, 3, 3, 3, 1, 4, 4, 3, 3, 3, 1, 1, 2, 3, 3, 1, 1, 4, 4, 4, 3, 4,\n",
       "       1, 0, 1, 0, 4, 1, 1, 3, 3, 3, 3, 4, 1, 4, 1, 4, 0, 1, 2, 4, 3, 1,\n",
       "       4, 1, 1, 4, 2, 4, 2, 2, 3, 3, 2, 3, 3, 4, 4, 1, 1, 4, 1, 4, 1, 1,\n",
       "       4, 1, 1, 4, 3, 1, 3, 0, 0, 2, 3, 1, 1, 3, 1, 2, 1, 1, 1, 1, 3, 1,\n",
       "       3, 1, 3, 3, 0, 4, 4, 0, 4, 2, 4, 4, 3, 3, 4, 2, 0, 0, 3, 4, 4, 0,\n",
       "       3, 0, 1, 3, 0, 4, 1, 1, 4, 3, 4, 1, 3, 1, 3, 0, 0, 4, 4, 1, 4, 3,\n",
       "       1, 4, 1, 4, 1, 1, 2, 4, 0, 3, 1, 3, 1, 3, 2, 0, 3, 3, 1, 0, 4, 1,\n",
       "       1, 1, 1, 4, 4, 0, 1, 4, 1, 1, 1, 0, 3, 4, 3, 4, 2, 4, 3, 3, 4, 4,\n",
       "       4, 4, 4, 1, 2, 1, 1, 1, 3, 2, 4, 3, 2, 4, 4, 3, 4, 4, 4, 1, 1, 1,\n",
       "       0, 1, 2, 3, 4, 2, 0, 3, 4, 0, 3, 4, 1, 3, 2, 1, 4, 3, 0, 4, 3, 3,\n",
       "       2, 4, 1, 3, 0, 1, 4, 1, 4, 3, 4, 3, 1, 0, 4, 1, 3, 4, 3, 3, 3, 1,\n",
       "       3, 3, 1, 1, 4, 4, 3, 2, 1, 3, 3, 1, 3, 1, 3, 4, 4, 1, 1, 4, 3, 4,\n",
       "       3, 0, 3, 3, 1, 4, 2, 4, 1, 2, 4, 4, 4, 3, 4, 3, 3, 1, 0, 1, 4, 3,\n",
       "       4, 0, 3, 4, 3, 3, 3, 1, 3, 3, 1, 1, 1, 4, 3, 1, 1, 3, 3, 1, 3, 4,\n",
       "       0, 3, 2, 4, 4, 1, 4, 3, 4, 1, 4, 4, 1, 4, 0, 4, 1, 3, 3, 1, 4, 4,\n",
       "       0, 4, 2, 0, 1, 1, 0, 3, 3, 4, 1, 3, 4, 1, 4, 1, 4, 0, 3, 1, 1, 4,\n",
       "       4, 2, 1, 4, 1, 3, 1, 0, 0, 3, 3, 3, 4, 2, 0, 3, 4, 1, 3, 0, 3, 4,\n",
       "       0, 0, 0, 2, 0, 4, 4, 4, 1, 4, 0, 3, 1, 4, 3, 2, 3, 4, 0, 1, 3, 2,\n",
       "       1, 3, 1, 1, 0, 1, 3, 4, 4, 4, 4, 0, 0, 3, 1, 3, 1, 3, 4, 0, 3, 4,\n",
       "       2, 1, 3, 4, 1, 0, 1, 1, 2, 4, 1, 3, 3, 3, 4, 0, 4, 3, 4, 2, 3, 2,\n",
       "       1, 1, 0, 3, 4, 0, 1, 1, 0, 2, 1, 3, 0, 3, 1, 3, 2, 3, 4, 1, 3, 1,\n",
       "       4, 2, 4, 3, 4, 3, 3, 4, 3, 1, 4, 1, 4, 4, 4, 4, 3, 3, 4, 3, 1, 1,\n",
       "       3, 3, 1, 0, 1, 1, 0, 3, 3, 2, 1, 3, 1, 4, 2, 3, 1, 3, 0, 1, 4, 1,\n",
       "       4, 0, 1, 0, 0, 4, 3, 3, 3, 3, 1, 3, 0, 2, 3, 1, 0, 3, 1, 4, 4, 0,\n",
       "       4, 4, 3, 1, 3, 4, 1, 0, 3, 1, 1, 4, 3, 0, 0, 1, 4, 1, 1, 1, 2, 0,\n",
       "       3, 3, 1, 2, 3, 3, 1, 4, 3, 2, 3, 3, 4, 1, 4, 2, 4, 1, 3, 4, 3, 3,\n",
       "       4, 0, 1, 4, 3, 3, 1, 1, 3, 3, 1, 0, 3, 3, 4, 2, 3, 1, 3, 1, 0, 3,\n",
       "       0, 0, 1, 4, 0, 0, 3, 4, 1, 1, 4, 3, 4, 3, 0, 3, 1, 1, 2, 3, 0, 0,\n",
       "       1, 1, 4, 3, 1, 4, 4, 1, 3, 1, 1, 3, 1, 4, 4, 1, 3, 3, 3, 4, 1, 3,\n",
       "       1, 0, 0, 3, 4, 1, 3, 4, 1, 4, 3, 4, 2, 0, 3, 3, 0, 1, 0, 0, 4, 1,\n",
       "       3, 2, 0, 1, 1, 1, 3, 1, 0, 0, 3, 1, 1, 1, 1, 1, 1, 1, 4, 0, 0, 0,\n",
       "       1, 3, 1, 3, 3, 2, 4, 1, 1, 3, 3, 2, 3, 1, 0, 4, 1, 1, 4, 1, 4, 3,\n",
       "       1, 0, 3, 0, 4, 1, 4, 4, 4, 1, 4, 0, 3, 4, 4, 2, 4, 4, 0, 4, 3, 4,\n",
       "       3, 1, 2, 0, 3, 2, 3, 4, 4, 1, 3, 1, 3, 4, 4, 3, 3, 2, 1, 1, 1, 4,\n",
       "       3, 0, 4, 0, 1, 0, 4, 1, 4, 0, 3, 3, 1, 4, 4, 4, 0, 3, 1, 3, 2, 1,\n",
       "       0, 0, 1, 1, 1, 4, 0, 1, 4, 3, 3, 4, 3, 0, 4, 3, 1, 1, 4, 4, 1, 4,\n",
       "       4, 3, 0, 3, 3, 1, 3, 1, 4, 3, 3, 3, 4, 0, 4, 4, 3, 1, 4, 4, 4, 0,\n",
       "       1, 3, 1, 2, 3, 3, 3, 3, 3, 3, 4, 4, 1, 0, 3, 1, 1, 1, 4, 4, 2, 3,\n",
       "       1, 4, 1, 2, 3, 3, 3, 3, 4, 3, 4, 0, 0, 1, 1, 3, 4, 4, 3, 4, 1, 3,\n",
       "       4, 0, 2, 3, 3, 0, 0, 4, 0, 4, 1, 4, 4, 2, 1, 3, 1, 4, 4, 1, 1, 4,\n",
       "       0, 4, 1, 2, 4, 0, 4, 3, 4, 4, 3, 1, 0, 3, 4, 3, 2, 1, 3, 2, 3, 4,\n",
       "       4, 4, 0, 3, 2, 1, 1, 1, 3, 4, 1, 0, 3, 4, 0, 2, 4, 1, 3, 4, 1, 2,\n",
       "       3, 1, 1, 1, 0, 4, 3, 0, 2, 1, 4, 3, 4, 4, 3, 1, 0, 4, 4, 3, 0, 1,\n",
       "       4, 0, 3, 1, 1, 1, 2, 3, 1, 4], dtype=int32)"
      ]
     },
     "execution_count": 39,
     "metadata": {},
     "output_type": "execute_result"
    }
   ],
   "source": [
    "y_km"
   ]
  },
  {
   "cell_type": "markdown",
   "metadata": {},
   "source": [
    "### Perception Explanation"
   ]
  },
  {
   "cell_type": "code",
   "execution_count": 46,
   "metadata": {},
   "outputs": [
    {
     "data": {
      "text/plain": [
       "array([0, 0, 0, 1])"
      ]
     },
     "execution_count": 46,
     "metadata": {},
     "output_type": "execute_result"
    }
   ],
   "source": [
    "from sklearn.linear_model import Perceptron\n",
    "import numpy as np\n",
    "\n",
    "# And Gate\n",
    "X = np.array([[0,0],[0,1],[1,0],[1,1]])\n",
    "y = np.array([0,0,0,1])\n",
    "model = Perceptron()\n",
    "model.fit(X,y)\n",
    "\n",
    "model.predict(X)"
   ]
  },
  {
   "cell_type": "code",
   "execution_count": 47,
   "metadata": {},
   "outputs": [
    {
     "data": {
      "text/plain": [
       "array([0, 0, 0, 0])"
      ]
     },
     "execution_count": 47,
     "metadata": {},
     "output_type": "execute_result"
    }
   ],
   "source": [
    "# XOR Gate The Wrong one\n",
    "X = np.array([[0,0],[0,1],[1,0],[1,1]])\n",
    "y = np.array([0,1,1,0])\n",
    "model = Perceptron()\n",
    "model.fit(X,y)\n",
    "\n",
    "model.predict(X)"
   ]
  },
  {
   "cell_type": "code",
   "execution_count": 58,
   "metadata": {},
   "outputs": [
    {
     "name": "stdout",
     "output_type": "stream",
     "text": [
      "[[0]\n",
      " [1]\n",
      " [0]\n",
      " [0]]\n",
      "[[0]\n",
      " [0]\n",
      " [1]\n",
      " [0]]\n"
     ]
    },
    {
     "data": {
      "text/plain": [
       "array([0, 1, 1, 0])"
      ]
     },
     "execution_count": 58,
     "metadata": {},
     "output_type": "execute_result"
    }
   ],
   "source": [
    "# XOR Gate with 3 perception\n",
    "X = np.array([[0,0],[0,1],[1,0],[1,1]])\n",
    "y1 = np.array([0, 1, 0, 0]) # [0,1] is True\n",
    "y2 = np.array([0, 0, 1, 0])\n",
    "y3 = np.array([0, 1, 1, 1])  \n",
    "\n",
    "\n",
    "layer1_1 = Perceptron()\n",
    "layer1_2 = Perceptron()\n",
    "layer2 = Perceptron()\n",
    "\n",
    "\n",
    "layer1_1.fit(X, y1)\n",
    "layer1_2.fit(X, y2)\n",
    "layer2.fit(X, y3)\n",
    "\n",
    "\n",
    "layer1_1_out = layer1_1.predict(X)\n",
    "layer1_1_out = layer1_1_out.reshape(-1,1)\n",
    "\n",
    "\n",
    "layer1_2_out = layer1_2.predict(X)\n",
    "layer1_2_out = layer1_2_out.reshape(-1,1)\n",
    "\n",
    "\n",
    "print(layer1_1_out)\n",
    "print(layer1_2_out)\n",
    "layer2_in = np.concatenate((layer1_1_out, layer1_2_out), axis=1)\n",
    "\n",
    "layer2.predict(layer2_in)\n"
   ]
  },
  {
   "cell_type": "code",
   "execution_count": 70,
   "metadata": {},
   "outputs": [],
   "source": [
    "arr = np.array([1,2,3,4,5,6,7,8,9,10,11,12])"
   ]
  },
  {
   "cell_type": "code",
   "execution_count": 77,
   "metadata": {},
   "outputs": [
    {
     "data": {
      "text/plain": [
       "array([[ 1],\n",
       "       [ 2],\n",
       "       [ 3],\n",
       "       [ 4],\n",
       "       [ 5],\n",
       "       [ 6],\n",
       "       [ 7],\n",
       "       [ 8],\n",
       "       [ 9],\n",
       "       [10],\n",
       "       [11],\n",
       "       [12]])"
      ]
     },
     "execution_count": 77,
     "metadata": {},
     "output_type": "execute_result"
    }
   ],
   "source": [
    "# -1 means don't care how many rows, 4 -> 4 columns\n",
    "arr.reshape(12,-1)"
   ]
  },
  {
   "cell_type": "code",
   "execution_count": null,
   "metadata": {},
   "outputs": [],
   "source": []
  }
 ],
 "metadata": {
  "kernelspec": {
   "display_name": "Python 3.10.6 64-bit",
   "language": "python",
   "name": "python3"
  },
  "language_info": {
   "codemirror_mode": {
    "name": "ipython",
    "version": 3
   },
   "file_extension": ".py",
   "mimetype": "text/x-python",
   "name": "python",
   "nbconvert_exporter": "python",
   "pygments_lexer": "ipython3",
   "version": "3.10.6"
  },
  "orig_nbformat": 4,
  "vscode": {
   "interpreter": {
    "hash": "e7370f93d1d0cde622a1f8e1c04877d8463912d04d973331ad4851f04de6915a"
   }
  }
 },
 "nbformat": 4,
 "nbformat_minor": 2
}
